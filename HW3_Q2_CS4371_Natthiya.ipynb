{
  "cells": [
    {
      "cell_type": "code",
      "execution_count": null,
      "metadata": {
        "colab": {
          "base_uri": "https://localhost:8080/"
        },
        "id": "YDlaDyCJdgkL",
        "outputId": "66a2e962-ee3d-442b-fa27-31ed3129b584"
      },
      "outputs": [
        {
          "name": "stdout",
          "output_type": "stream",
          "text": [
            "Requirement already satisfied: pyspark in /usr/local/lib/python3.12/dist-packages (3.5.1)\n",
            "Requirement already satisfied: py4j==0.10.9.7 in /usr/local/lib/python3.12/dist-packages (from pyspark) (0.10.9.7)\n"
          ]
        }
      ],
      "source": [
        "# Install PySpark and Java (Colab needs this for Apache Spark)\n",
        "!apt-get install openjdk-8-jdk-headless -qq > /dev/null\n",
        "!pip install pyspark"
      ]
    },
    {
      "cell_type": "code",
      "execution_count": null,
      "metadata": {
        "id": "jwT7_Nj2edyN"
      },
      "outputs": [],
      "source": [
        "# Import necessary libraries and start Spark session\n",
        "from pyspark import SparkContext, SparkConf\n",
        "from google.colab import drive\n",
        "import re"
      ]
    },
    {
      "cell_type": "code",
      "execution_count": null,
      "metadata": {
        "id": "oRWytQ92ehwz"
      },
      "outputs": [],
      "source": [
        "# Set up SparkContext\n",
        "conf = SparkConf().setAppName(\"Q2_Temperature\").setMaster(\"local[*]\")\n",
        "sc = SparkContext(conf=conf)"
      ]
    },
    {
      "cell_type": "code",
      "execution_count": null,
      "metadata": {
        "colab": {
          "base_uri": "https://localhost:8080/"
        },
        "id": "3F1PN_mSixyG",
        "outputId": "9087d555-b9e9-450c-818f-51c64eff50a3"
      },
      "outputs": [
        {
          "name": "stdout",
          "output_type": "stream",
          "text": [
            "Mounted at /content/drive\n"
          ]
        }
      ],
      "source": [
        "# Mount Google Drive to access your files\n",
        "drive.mount('/content/drive')"
      ]
    },
    {
      "cell_type": "code",
      "execution_count": null,
      "metadata": {
        "colab": {
          "background_save": true
        },
        "id": "lpyBtjiugR0x",
        "outputId": "485352ed-1ef7-414d-d018-994392b359ab"
      },
      "outputs": [
        {
          "name": "stdout",
          "output_type": "stream",
          "text": [
            "Buffered data was truncated after reaching the output size limit."
          ]
        }
      ],
      "source": [
        "# Read the text file from Google Drive.\n",
        "inp_city = sc.textFile(\"/content/drive/MyDrive/ColabNotebooks/CS4371_HW3_Natthiya/Dataset/city_temperature.csv\")\n",
        "print(inp_city.collect())  # To see the content of the file (optional)\n",
        "\n",
        "inp_country = sc.textFile(\"/content/drive/MyDrive/ColabNotebooks/CS4371_HW3_Natthiya/Dataset/country-list.csv\")\n",
        "print(inp_country.collect())  # To see the content of the file (optional)"
      ]
    },
    {
      "cell_type": "code",
      "execution_count": null,
      "metadata": {
        "colab": {
          "background_save": true
        },
        "id": "zHUJecu6m7xV"
      },
      "outputs": [],
      "source": [
        "# Clean and Split City Temperature Data\n",
        "#Each line has 8 columns: Region,Country,State,City,Month,Day,Year,AvgTemperature\n",
        "header_city = inp_city.first()\n",
        "city_data = (\n",
        "    inp_city.filter(lambda l: l != header_city)\n",
        "            .map(lambda l: l.split(\",\"))\n",
        "            .filter(lambda x: len(x) == 8 and x[7].strip() != \"\")\n",
        "            .map(lambda x: (x[0].strip(), x[1].strip(), x[2].strip(),\n",
        "                            x[3].strip(), int(x[4]), int(x[5]), int(x[6]),\n",
        "                            float(x[7])))\n",
        ")"
      ]
    },
    {
      "cell_type": "code",
      "execution_count": null,
      "metadata": {
        "colab": {
          "background_save": true
        },
        "id": "JQwt4L_xvFC1"
      },
      "outputs": [],
      "source": [
        "#Clean and Split Country List Data\n",
        "#Columns: country, capital, type\n",
        "\n",
        "header_country = inp_country.first()\n",
        "country_data = (\n",
        "    inp_country.filter(lambda l: l != header_country)\n",
        "               .map(lambda l: l.split(\",\"))\n",
        "               .filter(lambda x: len(x) == 3)\n",
        "               .map(lambda x: (x[0].strip(), x[1].strip(), x[2].strip()))\n",
        ")\n"
      ]
    },
    {
      "cell_type": "markdown",
      "metadata": {
        "id": "ZMqoUPXuvfj0"
      },
      "source": [
        "# **Q2A. Find the average of AvgTemperature for each Region.**"
      ]
    },
    {
      "cell_type": "code",
      "execution_count": 18,
      "metadata": {
        "id": "Vmt_jHWxvlmp"
      },
      "outputs": [],
      "source": [
        "region_avg = (\n",
        "    city_data.map(lambda x: (x[0], (x[7], 1)))\n",
        "             .reduceByKey(lambda a,b: (a[0]+b[0], a[1]+b[1]))\n",
        "             .mapValues(lambda v: round(v[0]/v[1], 2))\n",
        ")\n",
        "region_avg.coalesce(1).saveAsTextFile(\"/content/drive/MyDrive/ColabNotebooks/CS4371_HW3_Natthiya/q2A_output\")\n"
      ]
    },
    {
      "cell_type": "markdown",
      "source": [
        "# **Q2B. Find the average of AvgTemperature by Month for countries only located in the “Asia” Region**"
      ],
      "metadata": {
        "id": "0_T5RyTH2VIM"
      }
    },
    {
      "cell_type": "code",
      "source": [
        "asia_avg = (\n",
        "    city_data.filter(lambda x: x[0].lower() == \"asia\")\n",
        "             .map(lambda x: (x[4], (x[7], 1)))   # key = Month\n",
        "             .reduceByKey(lambda a,b: (a[0]+b[0], a[1]+b[1]))\n",
        "             .mapValues(lambda v: round(v[0]/v[1], 2))\n",
        ")\n",
        "asia_avg.coalesce(1).saveAsTextFile(\"/content/drive/MyDrive/ColabNotebooks/CS4371_HW3_Natthiya/q2B_output\")\n"
      ],
      "metadata": {
        "id": "RqtVCB_J2hFl"
      },
      "execution_count": 12,
      "outputs": []
    },
    {
      "cell_type": "markdown",
      "source": [
        "# **Q2C. Find the average of AvgTemperature by City only located in the Country “Germany”**"
      ],
      "metadata": {
        "id": "5JTojrI922Ry"
      }
    },
    {
      "cell_type": "code",
      "source": [
        "germany_city_avg = (\n",
        "    city_data.filter(lambda x: x[1].lower() == \"germany\")\n",
        "             .map(lambda x: (x[3], (x[7], 1)))   # key = City\n",
        "             .reduceByKey(lambda a,b: (a[0]+b[0], a[1]+b[1]))\n",
        "             .mapValues(lambda v: round(v[0]/v[1], 2))\n",
        ")\n",
        "germany_city_avg.coalesce(1).saveAsTextFile(\"/content/drive/MyDrive/ColabNotebooks/CS4371_HW3_Natthiya/q2C_output\")"
      ],
      "metadata": {
        "id": "Md62mCUn2662"
      },
      "execution_count": 13,
      "outputs": []
    },
    {
      "cell_type": "markdown",
      "source": [
        "# **Q2D. For each country, find the capital and average of AvgTemperature of that capital city. Your**\n",
        "output file should contain: <Country><TAB><Year><TAB><Avg of AvgTemperature of the Country>"
      ],
      "metadata": {
        "id": "xtvr-WpM3FRl"
      }
    },
    {
      "cell_type": "code",
      "source": [
        "import csv, unicodedata, re, os, shutil\n",
        "\n",
        "def parse_csv(parts):\n",
        "    for line in parts:\n",
        "        for row in csv.reader([line]):   # safe for quoted commas\n",
        "            yield row\n",
        "\n",
        "def norm(s):\n",
        "    s = s or \"\"\n",
        "    s = unicodedata.normalize(\"NFKD\", s).encode(\"ascii\",\"ignore\").decode(\"ascii\")\n",
        "    s = re.sub(r\"[^a-z\\s]\", \" \", s.lower().strip())\n",
        "    return re.sub(r\"\\s+\", \" \", s)\n",
        "\n",
        "# Read as TEXT and drop headers\n",
        "city_txt    = sc.textFile(\"/content/drive/MyDrive/ColabNotebooks/CS4371_HW3_Natthiya/Dataset/city_temperature.csv\")\n",
        "country_txt = sc.textFile(\"/content/drive/MyDrive/ColabNotebooks/CS4371_HW3_Natthiya/Dataset/country-list.csv\")\n",
        "city_hdr, country_hdr = city_txt.first(), country_txt.first()\n",
        "city_rows    = city_txt.filter(lambda l: l != city_hdr).mapPartitions(parse_csv)\n",
        "country_rows = country_txt.filter(lambda l: l != country_hdr).mapPartitions(parse_csv)\n",
        "\n",
        "# Keep valid rows -> RDD SHAPES\n",
        "# city_data: (Region, Country, State, City, Month, Day, Year, Temp)\n",
        "def isfloat(s):\n",
        "    try: float(s); return True\n",
        "    except: return False\n",
        "\n",
        "city_data = (city_rows\n",
        "             .filter(lambda x: len(x) >= 8 and x[6].strip().isdigit() and isfloat(x[7]))\n",
        "             .map(lambda x: (x[0].strip(), x[1].strip(), x[2].strip(), x[3].strip(),\n",
        "                             int(x[4]), int(x[5]), int(x[6]), float(x[7]))))\n",
        "\n",
        "# country_data: (Country, Capital, Type)\n",
        "country_data = (country_rows\n",
        "                .filter(lambda x: len(x) >= 2)\n",
        "                .map(lambda x: (x[0].strip(), x[1].strip(), (x[2].strip() if len(x)>2 else \"\"))))\n",
        "\n",
        "print(\"rows city_data       :\", city_data.count())\n",
        "print(\"rows country_data    :\", country_data.count())\n",
        "\n",
        "# DIAG: check country-name intersection\n",
        "city_countries    = city_data.map(lambda x: x[1].strip()).distinct()\n",
        "list_countries    = country_data.map(lambda x: x[0].strip()).distinct()\n",
        "print(\"distinct in city    :\", city_countries.count())\n",
        "print(\"distinct in list    :\", list_countries.count())\n",
        "print(\"intersection(count) :\", city_countries.intersection(list_countries).count())\n",
        "\n",
        "# Build normalized keys to JOIN BY CAPITAL/CITY NAME\n",
        "# city key: normalized City;   value: (year, temp, country_orig)\n",
        "# capital key: normalized Capital; value: country_orig\n",
        "city_by_name = city_data.map(lambda r: (norm(r[3]), (r[6], r[7], r[1])))\n",
        "cap_to_ctry  = country_data.map(lambda r: (norm(r[1]), r[0]))\n",
        "\n",
        "# Quick DIAG: how many names overlap?\n",
        "city_names   = city_by_name.keys().distinct()\n",
        "capital_names= cap_to_ctry.keys().distinct()\n",
        "name_overlap = city_names.intersection(capital_names).count()\n",
        "print(\"capital/city name overlap (after norm):\", name_overlap)\n",
        "\n",
        "# Join by normalized city/capital\n",
        "joined = city_by_name.join(cap_to_ctry)   # (cap_norm, ((year,temp,country), country_from_list))\n",
        "jn_count = joined.count()\n",
        "print(\"joined rows (by name):\", jn_count)\n",
        "if jn_count == 0:\n",
        "    # Print a few examples from each side\n",
        "    print(\"Example city names:\", city_names.take(10))\n",
        "    print(\"Example capital names:\", capital_names.take(10))\n",
        "\n",
        "# 6) Average by (Country, Year)\n",
        "pairs = joined.map(lambda kv: ((kv[1][1], kv[1][0][0]), (kv[1][0][1], 1.0)))\n",
        "avg   = (pairs\n",
        "         .reduceByKey(lambda a,b: (a[0]+b[0], a[1]+b[1]))\n",
        "         .mapValues(lambda sc: round(sc[0]/sc[1], 2)))\n",
        "\n",
        "print(\"sample avg:\", avg.take(10))\n",
        "\n",
        "# 7) Save ONE TSV (Country<TAB>Year<TAB>Avg of AvgTemperature of the Country)\n",
        "outD = \"/content/drive/MyDrive/ColabNotebooks/CS4371_HW3_Natthiya/q2D_output\"\n",
        "if os.path.exists(outD): shutil.rmtree(outD)\n",
        "(avg.map(lambda kv: f\"{kv[0][0]}\\t{kv[0][1]}\\t{kv[1]}\").coalesce(1).saveAsTextFile(outD))\n"
      ],
      "metadata": {
        "colab": {
          "base_uri": "https://localhost:8080/"
        },
        "id": "M5_PXl2DGQ0f",
        "outputId": "caece03b-c304-46a5-f009-fb98d065027d"
      },
      "execution_count": 28,
      "outputs": [
        {
          "output_type": "stream",
          "name": "stdout",
          "text": [
            "rows city_data       : 2906327\n",
            "rows country_data    : 248\n",
            "distinct in city    : 125\n",
            "distinct in list    : 247\n",
            "intersection(count) : 114\n",
            "capital/city name overlap (after norm): 106\n",
            "joined rows (by name): 931683\n",
            "sample avg: [(('Ethiopia', 2000), 19.28), (('Ethiopia', 2010), 11.77), (('Ethiopia', 2011), 57.47), (('Ethiopia', 2013), 60.76), (('Malawi', 1998), -5.16), (('Malawi', 1999), -29.41), (('Malawi', 2002), -39.44), (('Malawi', 2003), -87.36), (('Malawi', 2004), -99.0), (('Kyrgyzstan', 1998), 21.77)]\n"
          ]
        }
      ]
    }
  ],
  "metadata": {
    "colab": {
      "provenance": []
    },
    "kernelspec": {
      "display_name": "Python 3",
      "name": "python3"
    },
    "language_info": {
      "name": "python"
    }
  },
  "nbformat": 4,
  "nbformat_minor": 0
}